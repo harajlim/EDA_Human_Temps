{
 "cells": [
  {
   "cell_type": "markdown",
   "metadata": {},
   "source": [
    "# What is the True Normal Human Body Temperature? \n",
    "\n",
    "#### Background\n",
    "\n",
    "The mean normal body temperature was held to be 37$^{\\circ}$C or 98.6$^{\\circ}$F for more than 120 years since it was first conceptualized and reported by Carl Wunderlich in a famous 1868 book. But, is this value statistically correct?"
   ]
  },
  {
   "cell_type": "markdown",
   "metadata": {},
   "source": [
    "<h3>Exercises</h3>\n",
    "\n",
    "<p>In this exercise, you will analyze a dataset of human body temperatures and employ the concepts of hypothesis testing, confidence intervals, and statistical significance.</p>\n",
    "\n",
    "<p>Answer the following questions <b>in this notebook below and submit to your Github account</b>.</p> \n",
    "\n",
    "<ol>\n",
    "<li>  Is the distribution of body temperatures normal? \n",
    "    <ul>\n",
    "    <li> Although this is not a requirement for the Central Limit Theorem to hold (read the introduction on Wikipedia's page about the CLT carefully: https://en.wikipedia.org/wiki/Central_limit_theorem), it gives us some peace of mind that the population may also be normally distributed if we assume that this sample is representative of the population.\n",
    "    <li> Think about the way you're going to check for the normality of the distribution. Graphical methods are usually used first, but there are also other ways: https://en.wikipedia.org/wiki/Normality_test\n",
    "    </ul>\n",
    "<li>  Is the sample size large? Are the observations independent?\n",
    "    <ul>\n",
    "    <li> Remember that this is a condition for the Central Limit Theorem, and hence the statistical tests we are using, to apply.\n",
    "    </ul>\n",
    "<li>  Is the true population mean really 98.6 degrees F?\n",
    "    <ul>\n",
    "    <li> First, try a bootstrap hypothesis test.\n",
    "    <li> Now, let's try frequentist statistical testing. Would you use a one-sample or two-sample test? Why?\n",
    "    <li> In this situation, is it appropriate to use the $t$ or $z$ statistic? \n",
    "    <li> Now try using the other test. How is the result be different? Why?\n",
    "    </ul>\n",
    "<li>  Draw a small sample of size 10 from the data and repeat both frequentist tests. \n",
    "    <ul>\n",
    "    <li> Which one is the correct one to use? \n",
    "    <li> What do you notice? What does this tell you about the difference in application of the $t$ and $z$ statistic?\n",
    "    </ul>\n",
    "<li>  At what temperature should we consider someone's temperature to be \"abnormal\"?\n",
    "    <ul>\n",
    "    <li> As in the previous example, try calculating everything using the boostrap approach, as well as the frequentist approach.\n",
    "    <li> Start by computing the margin of error and confidence interval. When calculating the confidence interval, keep in mind that you should use the appropriate formula for one draw, and not N draws.\n",
    "    </ul>\n",
    "<li>  Is there a significant difference between males and females in normal temperature?\n",
    "    <ul>\n",
    "    <li> What testing approach did you use and why?\n",
    "    <li> Write a story with your conclusion in the context of the original problem.\n",
    "    </ul>\n",
    "</ol>\n",
    "\n",
    "You can include written notes in notebook cells using Markdown: \n",
    "   - In the control panel at the top, choose Cell > Cell Type > Markdown\n",
    "   - Markdown syntax: http://nestacms.com/docs/creating-content/markdown-cheat-sheet\n",
    "\n",
    "#### Resources\n",
    "\n",
    "+ Information and data sources: http://www.amstat.org/publications/jse/datasets/normtemp.txt, http://www.amstat.org/publications/jse/jse_data_archive.htm\n",
    "+ Markdown syntax: http://nestacms.com/docs/creating-content/markdown-cheat-sheet\n",
    "\n",
    "****"
   ]
  },
  {
   "cell_type": "code",
   "execution_count": 62,
   "metadata": {},
   "outputs": [],
   "source": [
    "import pandas as pd\n",
    "import numpy as np\n",
    "import matplotlib.pyplot as plt\n",
    "from scipy.stats import norm\n",
    "import seaborn as sns\n",
    "\n",
    "df = pd.read_csv('data/human_body_temperature.csv')"
   ]
  },
  {
   "cell_type": "markdown",
   "metadata": {},
   "source": [
    "## 1-Is the distribution of body temperatures normal?\n",
    "\n",
    "Graphical Methods:\n",
    "\n",
    "We begin by plotting a normed histogram along with a line plot of the pdf of a normal distribution with mean and variance deduced from the data.\n",
    "\n",
    "To avoid binning bias, ECDFs are also plotted of both the theoretical normal distribution (with mean and variance deduced from the sample), and from the obtained observations.\n",
    "\n",
    "We then also plot a Normal Probability plot, which is basically a plot of the quantiles for the sample vs the quantiles from a normal distribution.\n"
   ]
  },
  {
   "cell_type": "code",
   "execution_count": 63,
   "metadata": {},
   "outputs": [],
   "source": [
    "#this function is from Datacamp\n",
    "\n",
    "def ecdf(data):\n",
    "    \"\"\"Compute ECDF for a one-dimensional array of measurements.\"\"\"\n",
    "    # Number of data points: n\n",
    "    n = len(data)\n",
    "\n",
    "    # x-data for the ECDF: x\n",
    "    x = np.sort(data)\n",
    "\n",
    "    # y-data for the ECDF: y\n",
    "    y = np.arange(1, n+1) / n\n",
    "\n",
    "    return x, y\n"
   ]
  },
  {
   "cell_type": "markdown",
   "metadata": {},
   "source": [
    "Comparing Histogram To Theoretical PDF"
   ]
  },
  {
   "cell_type": "code",
   "execution_count": 64,
   "metadata": {
    "scrolled": false
   },
   "outputs": [
    {
     "data": {
      "text/plain": [
       "Text(0,0.5,'Probability Density')"
      ]
     },
     "execution_count": 64,
     "metadata": {},
     "output_type": "execute_result"
    },
    {
     "data": {
      "image/png": "[encoded data removed]",
      "text/plain": [
       "<Figure size 432x288 with 1 Axes>"
      ]
     },
     "metadata": {},
     "output_type": "display_data"
    }
   ],
   "source": [
    "#Compare Histogram to PDF\n",
    "\n",
    "# Get The temperatures as a numpy array: The sample\n",
    "Temps=df.temperature.values\n",
    "\n",
    "#sample mean:\n",
    "mean=np.mean(Temps)\n",
    "\n",
    "#sample standard deviation\n",
    "std=np.std(Temps)\n",
    "\n",
    "plt.hist(Temps,bins=20,density=True)\n",
    "\n",
    "x=np.linspace(95,102,1000)\n",
    "y=norm.pdf(x,loc=mean,scale=std)\n",
    "plt.plot(x,y,color='red')\n",
    "\n",
    "plt.xlabel('Temperature in F')\n",
    "plt.ylabel('Probability Density')"
   ]
  },
  {
   "cell_type": "markdown",
   "metadata": {},
   "source": [
    "Comparing ECDF to theoretical CDF"
   ]
  },
  {
   "cell_type": "code",
   "execution_count": 65,
   "metadata": {},
   "outputs": [
    {
     "data": {
      "image/png": "[encoded data removed]",
      "text/plain": [
       "<Figure size 432x288 with 1 Axes>"
      ]
     },
     "metadata": {},
     "output_type": "display_data"
    }
   ],
   "source": [
    "#Compare CDF of normal distribution to ECDF of sample:\n",
    "x,y=ecdf(Temps)\n",
    "plt.scatter(x,y,color='red',s=10,label='Sample')\n",
    "\n",
    "x=np.linspace(95,102,1000)\n",
    "y=norm.cdf(x,loc=mean,scale=std)\n",
    "plt.plot(x,y,color='blue',label='Normal Theoretical')\n",
    "plt.legend()\n",
    "plt.xlabel('Temperature in F')\n",
    "plt.ylabel('ECDF')\n",
    "\n",
    "\n",
    "plt.show()"
   ]
  },
  {
   "cell_type": "markdown",
   "metadata": {},
   "source": [
    "Plotting Q-Q Plot"
   ]
  },
  {
   "cell_type": "code",
   "execution_count": 66,
   "metadata": {},
   "outputs": [
    {
     "data": {
      "image/png": "[encoded data removed]",
      "text/plain": [
       "<Figure size 432x288 with 1 Axes>"
      ]
     },
     "metadata": {},
     "output_type": "display_data"
    }
   ],
   "source": [
    "#A Q-Q Plot is drawn:\n",
    "x=np.linspace(0,1,100)\n",
    "y1=norm.ppf(x,loc=mean,scale=std)\n",
    "\n",
    "y2=np.percentile(Temps,x*100)\n",
    "plt.scatter(y1,y2,s=5)\n",
    "\n",
    "x=[96.5,100]\n",
    "y=x[:]\n",
    "\n",
    "plt.plot(x,y,color='red')\n",
    "\n",
    "\n",
    "plt.xlabel('Theoretical Quantile')\n",
    "plt.ylabel('Sample Quantile')\n",
    "\n",
    "\n",
    "plt.show()"
   ]
  },
  {
   "cell_type": "markdown",
   "metadata": {},
   "source": [
    "The D'Agostino and Pearson Test is used, since it is readily available through the scipy library"
   ]
  },
  {
   "cell_type": "code",
   "execution_count": 67,
   "metadata": {},
   "outputs": [
    {
     "name": "stdout",
     "output_type": "stream",
     "text": [
      "k2 is 2.703801433319203 and p is: 0.2587479863488254\n"
     ]
    }
   ],
   "source": [
    "from scipy import stats\n",
    "k2,p=stats.normaltest(Temps)\n",
    "print('k2 is '+str(k2)+' and p is: '+str(p))"
   ]
  },
  {
   "cell_type": "markdown",
   "metadata": {},
   "source": [
    "With a typical significance level of 10% and a p_value of 0.26 the null hypothesis that the underlying distibution is normal cannot be rejected."
   ]
  },
  {
   "cell_type": "markdown",
   "metadata": {},
   "source": [
    "## 2-Is the sample size large? Are the observations independent?"
   ]
  },
  {
   "cell_type": "code",
   "execution_count": 68,
   "metadata": {},
   "outputs": [
    {
     "name": "stdout",
     "output_type": "stream",
     "text": [
      "The sample has size: 130\n"
     ]
    }
   ],
   "source": [
    "print('The sample has size: '+str(len(Temps)))"
   ]
  },
  {
   "cell_type": "markdown",
   "metadata": {},
   "source": [
    "Which is greater than 30, so the sample size is considered large.\n",
    "Since the human population is well greater than 130/0.1 = 1300, we can assume that\n",
    "the sample meets the 10% rule, and that the observations are independent."
   ]
  },
  {
   "cell_type": "markdown",
   "metadata": {},
   "source": [
    "## 3-Is the true population mean really 98.6 degrees F? "
   ]
  },
  {
   "cell_type": "markdown",
   "metadata": {},
   "source": [
    "# Bootstrap Method:"
   ]
  },
  {
   "cell_type": "code",
   "execution_count": 69,
   "metadata": {},
   "outputs": [],
   "source": [
    "def bootstrap_replicate_1d(data, func):\n",
    "    return func(np.random.choice(data, size=len(data)))"
   ]
  },
  {
   "cell_type": "code",
   "execution_count": 70,
   "metadata": {},
   "outputs": [],
   "source": [
    "#function that draws Bootstrapped replicates.\n",
    "#obtained from DataCamp\n",
    "\n",
    "def draw_bs_reps(data, func, size=1):\n",
    "    \"\"\"Draw bootstrap replicates.\"\"\"\n",
    "\n",
    "    # Initialize array of replicates: bs_replicates\n",
    "    bs_replicates = np.empty(size)\n",
    "\n",
    "    # Generate replicates\n",
    "    for i in range(size):\n",
    "        bs_replicates[i] = bootstrap_replicate_1d(data,func)\n",
    "\n",
    "    return bs_replicates"
   ]
  },
  {
   "cell_type": "markdown",
   "metadata": {},
   "source": [
    "Let H0 be the null hypothesis that the population mean is 98.6.\n",
    "Ha: The alternate hypothesis that the population mean is less than 98.6.\n",
    "\n",
    "We set a significance level of 5%.\n"
   ]
  },
  {
   "cell_type": "code",
   "execution_count": 71,
   "metadata": {},
   "outputs": [
    {
     "name": "stdout",
     "output_type": "stream",
     "text": [
      "0.0\n"
     ]
    }
   ],
   "source": [
    "#Shift Temps to have a mean=98.6.\n",
    "\n",
    "Temps_shifted=Temps-mean+98.6\n",
    "\n",
    "#obtain 10,000 bootstrap replicates\n",
    "BS_Replicates=draw_bs_reps(Temps_shifted,np.mean,10000)\n",
    "\n",
    "#calculate the probability that we see a mean as extreme as \n",
    "#the one observed\n",
    "p_value=np.sum(BS_Replicates<=mean)/len(BS_Replicates)\n",
    "print(p_value)\n"
   ]
  },
  {
   "cell_type": "markdown",
   "metadata": {},
   "source": [
    "With a p_value as low as shown above, the hypothesis is rejected. Thus it is not likely that the mean of the population is 98.6."
   ]
  },
  {
   "cell_type": "markdown",
   "metadata": {},
   "source": [
    "# Frequentist Method:\n",
    "-We are to use a one sample test. We are not comparing to see if two populations have the same mean (that would be a two-sample test).\n",
    "\n",
    "The Null and alternate hypothesis are as stated above and the significance level is set at 0.05.\n",
    "\n"
   ]
  },
  {
   "cell_type": "markdown",
   "metadata": {},
   "source": [
    "-t vs z statistic: Since the population variance is not known, we need to do a t-test. However, we can do a z-test and use the sample variance as a guess. Since the sample size is large, we expect both methods to yield similar results. "
   ]
  },
  {
   "cell_type": "code",
   "execution_count": 72,
   "metadata": {},
   "outputs": [
    {
     "name": "stdout",
     "output_type": "stream",
     "text": [
      "z statistic: -5.4759252020785585\n",
      "the p value of: 2.1761575829356528e-08 is less than the significance level of 0.05. The Null Hypothesis is thus rejected\n"
     ]
    }
   ],
   "source": [
    "#calculate the z-statistic:\n",
    "\n",
    "\n",
    "z=(mean-98.6)/(std/np.sqrt(len(Temps)))\n",
    "print('z statistic: '+str(z))\n",
    "#Caculate the P-Value: the probability the observed mean or more extreme occurs:\n",
    "p_value=stats.norm.cdf(z)\n",
    "\n",
    "print('the p value of: '+\n",
    "      str(p_value)+\n",
    "      ' is less than the significance level of 0.05. The Null Hypothesis is thus rejected')"
   ]
  },
  {
   "cell_type": "code",
   "execution_count": 73,
   "metadata": {},
   "outputs": [
    {
     "name": "stdout",
     "output_type": "stream",
     "text": [
      "t statistic: -5.4759252020785585\n",
      "the p value of: 1.0943732312025389e-07 is less than the significance level of 0.05. The Null Hypothesis is thus rejected\n"
     ]
    }
   ],
   "source": [
    "#calculate the t-statistic:\n",
    "\n",
    "t=(mean-98.6)/(std/np.sqrt(len(Temps)))\n",
    "print('t statistic: '+str(t))\n",
    "#calculate the p-value:\n",
    "p_value=stats.t.cdf(t,len(Temps)-1)\n",
    "print('the p value of: '+\n",
    "      str(p_value)+\n",
    "      ' is less than the significance level of 0.05. The Null Hypothesis is thus rejected')\n"
   ]
  },
  {
   "cell_type": "markdown",
   "metadata": {},
   "source": [
    "Since the sample size was large (130), both the t-test and z-test gave similar results. Note since the z-statistic is using the sample variance as an estimate to the population variance, thus the z and t statistic are identical. "
   ]
  },
  {
   "cell_type": "markdown",
   "metadata": {},
   "source": [
    "## 4-Draw a small sample of size 10 from the data and repeat both frequentist tests. "
   ]
  },
  {
   "cell_type": "code",
   "execution_count": 74,
   "metadata": {},
   "outputs": [],
   "source": [
    "#randomly draw a subset of the Temps sample with size 10.\n",
    "Temps_Subset=np.random.choice(Temps,size=10)\n",
    "mean_s=np.mean(Temps_Subset)\n",
    "std_s=np.std(Temps_Subset)\n",
    "\n",
    "z=(mean_s-98.6)/(std_s/np.sqrt(len(Temps_Subset)))\n",
    "\n",
    "t=(mean_s-98.6)/(std_s/np.sqrt(len(Temps_Subset)))\n",
    "\n"
   ]
  },
  {
   "cell_type": "code",
   "execution_count": 75,
   "metadata": {},
   "outputs": [
    {
     "name": "stdout",
     "output_type": "stream",
     "text": [
      "for the z- test the p value of: 0.0005155010211962383 is less than the significance level of 0.05. The Null Hypothesis is thus rejected\n"
     ]
    }
   ],
   "source": [
    "p_value_z=stats.norm.cdf(z)\n",
    "if p_value_z<0.05:\n",
    "    print('for the z- test the p value of: '+\n",
    "      str(p_value_z)+\n",
    "      ' is less than the significance level of 0.05. The Null Hypothesis is thus rejected')\n",
    "else:\n",
    "    print('for the z- test the p value of: '+\n",
    "      str(p_value_z)+\n",
    "      ' is greater than the significance level of 0.05. The Null Hypothesis is not rejected')"
   ]
  },
  {
   "cell_type": "code",
   "execution_count": 76,
   "metadata": {},
   "outputs": [
    {
     "name": "stdout",
     "output_type": "stream",
     "text": [
      "for the t- test the p value of: 0.004749994154785451 is less than the significance level of 0.05. The Null Hypothesis is thus rejected\n"
     ]
    }
   ],
   "source": [
    "p_value_t=stats.t.cdf(t,len(Temps_Subset)-1)\n",
    "if p_value_t<0.05:\n",
    "    print('for the t- test the p value of: '+\n",
    "      str(p_value_t)+\n",
    "      ' is less than the significance level of 0.05. The Null Hypothesis is thus rejected')\n",
    "else:\n",
    "    print('for the t- test the p value of: '+\n",
    "      str(p_value_t)+\n",
    "      ' is greater than the significance level of 0.05. The Null Hypothesis is not rejected')\n"
   ]
  },
  {
   "cell_type": "markdown",
   "metadata": {},
   "source": [
    "In general, the p_value associated with the t-test is higher than that for the z-test here. \n",
    "\n",
    "Since the sample size is small (10), it is better to trust the results from the t-test. (since we are estimating the population variance, it is wiser to use t-test regardless)."
   ]
  },
  {
   "cell_type": "markdown",
   "metadata": {},
   "source": [
    "## 5-At what temperature should we consider someone's temperature to be \"abnormal\"? "
   ]
  },
  {
   "cell_type": "markdown",
   "metadata": {},
   "source": [
    "We begin using a bootstrap approach. \n",
    "\n",
    "We want to get an idea about what a normal temperature is. To do so, we build a confidence interval. We start by obtaining 10,000 bootstrap samples for observations of size 1. Since it is not favorable to state that a body temperature is normal when it is infact abnormal (Type II error), it is potentially better to use a significnance level of 0.1. "
   ]
  },
  {
   "cell_type": "code",
   "execution_count": 77,
   "metadata": {},
   "outputs": [
    {
     "name": "stdout",
     "output_type": "stream",
     "text": [
      "With a signifcance level of 0.1 a temperature is condidered normal if it is within the interval [96.9 99.3]\n"
     ]
    }
   ],
   "source": [
    "#bootstrap method:\n",
    "\n",
    "Observations=np.random.choice(Temps,size=10000)\n",
    "\n",
    "CI=np.percentile(Observations,[5,95])\n",
    "print('With a signifcance level of 0.1 '+\n",
    "     'a temperature is condidered normal if '+\n",
    "      'it is within the interval '+str(CI))\n"
   ]
  },
  {
   "cell_type": "markdown",
   "metadata": {},
   "source": [
    "Since we have assumed that population temperature is normal, we use the sample variance as an approximation of the population variance and get a confidence interval assuming normality."
   ]
  },
  {
   "cell_type": "code",
   "execution_count": 78,
   "metadata": {},
   "outputs": [
    {
     "name": "stdout",
     "output_type": "stream",
     "text": [
      "With a signifcance level of 0.1 a temperature is condidered normal if it is within the interval [97.04789912762658, 99.45056241083492]\n"
     ]
    }
   ],
   "source": [
    "#frequentist method:\n",
    "\n",
    "lb=stats.norm.ppf(0.05,loc=mean,scale=std)\n",
    "up=stats.norm.ppf(0.95,loc=mean,scale=std)\n",
    "CI=[lb,up]\n",
    "print('With a signifcance level of 0.1 '+\n",
    "     'a temperature is condidered normal if '+\n",
    "      'it is within the interval '+str(CI))"
   ]
  },
  {
   "cell_type": "markdown",
   "metadata": {},
   "source": [
    "We note that the two methods (bootstrap and frequentist) gave similar results."
   ]
  },
  {
   "cell_type": "markdown",
   "metadata": {},
   "source": [
    "## Is there a significant difference between males and females in normal temperature? \n",
    "we use a 2 sample bootstrap to build a 95% confidence interval for the statistic:\n",
    "\n",
    "Mean_Female-Mean_Male.\n",
    "\n",
    "\n"
   ]
  },
  {
   "cell_type": "code",
   "execution_count": 79,
   "metadata": {},
   "outputs": [
    {
     "name": "stdout",
     "output_type": "stream",
     "text": [
      "The 95% confidence interval for the statistc: Mean_F-Mean_M is [0.03846154 0.53230769] and we can conclude with 95% confidence that women have higher temperatures than men\n"
     ]
    }
   ],
   "source": [
    "Temp_M=df[df['gender']=='M']['temperature'].values\n",
    "Temp_F=df[df['gender']=='F']['temperature'].values\n",
    "\n",
    "\n",
    "bs_Mean_M=draw_bs_reps(Temp_M,np.mean,10000)\n",
    "bs_Mean_F=draw_bs_reps(Temp_F,np.mean,10000)\n",
    "bs_statistic=bs_Mean_F-bs_Mean_M\n",
    "\n",
    "CI=np.percentile(bs_statistic,[2.5,97.5])\n",
    "\n",
    "print('The 95% confidence interval for the statistc: Mean_F-Mean_M is '+\n",
    "     str(CI)+' and we can conclude with 95% confidence that women have higher temperatures '+\n",
    "      'than men')"
   ]
  },
  {
   "cell_type": "code",
   "execution_count": 80,
   "metadata": {},
   "outputs": [
    {
     "name": "stderr",
     "output_type": "stream",
     "text": [
      "C:\\Users\\MHarajli\\AppData\\Local\\Continuum\\anaconda3\\lib\\site-packages\\matplotlib\\axes\\_axes.py:6462: UserWarning: The 'normed' kwarg is deprecated, and has been replaced by the 'density' kwarg.\n",
      "  warnings.warn(\"The 'normed' kwarg is deprecated, and has been \"\n",
      "C:\\Users\\MHarajli\\AppData\\Local\\Continuum\\anaconda3\\lib\\site-packages\\matplotlib\\axes\\_axes.py:6462: UserWarning: The 'normed' kwarg is deprecated, and has been replaced by the 'density' kwarg.\n",
      "  warnings.warn(\"The 'normed' kwarg is deprecated, and has been \"\n"
     ]
    },
    {
     "data": {
      "text/plain": [
       "<matplotlib.legend.Legend at 0xb88a3c8>"
      ]
     },
     "execution_count": 80,
     "metadata": {},
     "output_type": "execute_result"
    },
    {
     "data": {
      "image/png": "[encoded data removed]",
      "text/plain": [
       "<Figure size 432x288 with 1 Axes>"
      ]
     },
     "metadata": {},
     "output_type": "display_data"
    }
   ],
   "source": [
    "#for sake of visuals we also plot the normed histograms of men and women:\n",
    "\n",
    "sns.distplot(Temp_M,color='blue',kde=True,bins=30)\n",
    "sns.distplot(Temp_F,color='red',kde=True,bins=30)\n",
    "plt.legend(['Men','Women'])"
   ]
  },
  {
   "cell_type": "code",
   "execution_count": null,
   "metadata": {},
   "outputs": [],
   "source": []
  }
 ],
 "metadata": {
  "kernelspec": {
   "display_name": "Python 3",
   "language": "python",
   "name": "python3"
  },
  "language_info": {
   "codemirror_mode": {
    "name": "ipython",
    "version": 3
   },
   "file_extension": ".py",
   "mimetype": "text/x-python",
   "name": "python",
   "nbconvert_exporter": "python",
   "pygments_lexer": "ipython3",
   "version": "3.6.5"
  }
 },
 "nbformat": 4,
 "nbformat_minor": 1
}
